{
  "cells": [
    {
      "cell_type": "markdown",
      "metadata": {
        "id": "view-in-github",
        "colab_type": "text"
      },
      "source": [
        "<a href=\"https://colab.research.google.com/github/unpackAI/CDL101/blob/main/%E7%AC%AC%E4%BA%8C%E5%91%A8%EF%BC%9A%E8%A1%A8%E6%A0%BC%E6%95%B0%E6%8D%AE/02_%E8%A1%A8%E6%A0%BC%E6%95%B0%E6%8D%AE_Workbook.ipynb\" target=\"_parent\"><img src=\"https://colab.research.google.com/assets/colab-badge.svg\" alt=\"Open In Colab\"/></a>"
      ]
    },
    {
      "cell_type": "markdown",
      "metadata": {
        "id": "7j04QL-TPJy1"
      },
      "source": [
        "# 💻unpackAI \"DL101训练营 \"的第2周工作手册\n"
      ]
    },
    {
      "cell_type": "markdown",
      "metadata": {
        "id": "f0joGgV0POOt"
      },
      "source": [
        "## 📕 本周的学习目标\n",
        "\n",
        "* 获得建立表格模型的实践经验 "
      ]
    },
    {
      "cell_type": "markdown",
      "metadata": {
        "id": "Jx21fMyjgV1v"
      },
      "source": [
        "## 解包AI作业部分\n",
        " \n",
        "**作业1**: 浏览下面的多项选择题，并选择正确答案。在报告会上进行讨论。\n",
        "\n",
        "**作业2**: 建立一个完整的分类模型，从定义你的目标开始，收集数据到训练你的模型和解释结果。"
      ]
    },
    {
      "cell_type": "markdown",
      "metadata": {
        "id": "tIYs4jA3yY7L"
      },
      "source": [
        "# 作业1\n",
        "\n",
        "#### 这里的问题是为了确保你能知道以下内容\n",
        "\n",
        "* 为什么随机森林作为一种ML算法是有用的？\n",
        "\n",
        "* 理解分类变量和连续变量之间的区别\n",
        "\n",
        "* 理解为什么可以或应该从模型中删除特征的原因\n",
        "\n",
        "**确保你了解代码中不同变量、函数和类的名称，以便你能独立编辑和重用它们。**\n",
        "\n",
        "## 以下问题为多选题，以帮助指导对内容的理解。然而，每个问题可以有一个或多个答案。\n",
        "\n",
        "#### 请快速浏览这些问题，当你浏览笔记本时，在找到答案后填上。\n",
        "\n",
        "\n"
      ]
    },
    {
      "cell_type": "markdown",
      "metadata": {
        "id": "DdV2cZh0yY7N"
      },
      "source": [
        "\n",
        "\n",
        "\n",
        "\n",
        "---\n",
        "\n",
        "\n",
        "\n",
        "\n",
        "### **A部分**：了解代码"
      ]
    },
    {
      "cell_type": "markdown",
      "metadata": {
        "id": "3bnPzzssyY7P"
      },
      "source": [
        "### 1. 什么是 \"目标变量\"？\n",
        "\n",
        "* A. 它类似于方程中的y变量。\n",
        "* B. 在卷积数据处理的迭代过程中，它告诉算法应该以什么为目标。\n",
        "* C. 它是我们的模型所要预测的变量。\n",
        "* D. 它帮助算法决定如何分割数据集。\n",
        "\n",
        "\n",
        "\n",
        "### 2. 为什么需要把数据集分成训练集、验证集和测试集？\n",
        "\n",
        "* A. 模型很容易在训练集上过度拟合，所以验证和测试是额外的集子以避免过度拟合。\n",
        "* B. 你在训练集上训练，在验证集上检查指标，在测试集上进行模型预测。\n",
        "* C. 验证集用于在模型训练前检查你的假设，而测试集则用于测试模型训练的结果。\n",
        "* D. 训练集是用来训练基线模型的，验证集是用来调整模型的，测试集是用来微调模型的，直到它达到最先进的结果。\n",
        "\n",
        "\n",
        "### 3. 在了解了AutoML之后，你会如何对待机器学习任务？\n",
        "\n",
        "* A. AutoML本质上是一件愚蠢的事情，因为你必须在大多数时候使用神经网络算法，因为它在对复杂数据进行预测时非常强大。\n",
        "* B. AutoML允许你探索几种算法如何适应数据，以确定最合适的算法。\n",
        "* C. AutoML只适用于非ML专业人员，因为ML工程师只需看一下数据就知道什么方法和技术会有效。\n",
        "* D. AutoML一点也不容易，因为你仍然需要对AutoML的步骤进行编码，有很强的数学和机器学习能力 \n",
        "\n",
        "### 4. 你为什么要用很多折来交叉验证我们的训练结果？\n",
        "\n",
        "* A.将数据集分割成训练集/验证集/测试集可能是不够的，因为你可能在所有的数据集中没有相同的数据分布，无法自信地确定ML模型训练结果。\n",
        "* B.如果你有一个小的数据集，你的验证集可能很小，只有几个特定类别的例子，这将导致纯粹的模型评估。\n",
        "* C.在所有折叠中类似的模型性能可能表明，模型在未见过的数据上会表现良好\n",
        "* D. 随机分割数据集不一定会导致训练/验证/测试集的随机性。"
      ]
    },
    {
      "cell_type": "markdown",
      "metadata": {
        "id": "xxwIc5jGyY7R"
      },
      "source": [
        "\n",
        "\n",
        "---\n",
        "\n",
        "### **B 部分** ：了解分类变量和连续变量之间的区别"
      ]
    },
    {
      "cell_type": "markdown",
      "metadata": {
        "id": "AQOIpWGpyY7S"
      },
      "source": [
        "### 5. 以下哪项是连续变量的特性？\n",
        "\n",
        "* A. 它们在数学上可以被解释为沿线/平面的数据点\n",
        "* B. 只要你在数据集中看到数字，它们就很容易识别\n",
        "* C. 它们通常位于一个范围内，可以是完整的整数（1,5,-7）或浮点小数（88.01，94.00），这取决于数据的收集方式\n",
        "* D. 它们的唯一目的是将数据集分成易于理解的组。\n",
        "\n",
        "### 6. 以下哪项是分类变量的属性？\n",
        "\n",
        "* A. 它们告诉我们没有直接数学意义的信息，如颜色、位置或名字。\n",
        "* B. 它们允许我们根据属性将数据集分为不同的类别 \n",
        "* C. 它们总是以文本的形式出现在数据集中。\n",
        "* D. 它们沿着一个可量化的光谱存在。\n",
        "\n",
        "### 7. 以下哪项应被视为连续变量而不是分类变量？\n",
        "\n",
        "* A. 在亚马逊等网站上按用途/功能组织的电子商务商品\n",
        "* B. 客户数据库中的邮政编码和电话号码\n",
        "* C. 教育背景（无，小学，一些中学，中学，一些大学，大学，硕士，博士，博士后）。\n",
        "* D. 从一个SQL数据库中随机生成的主键 \n",
        "\n",
        "### 8. 以下哪项应该作为分类变量而不是连续变量来处理？\n",
        "\n",
        "* A. 一个样本的平均数的标准偏差\n",
        "* B. 六面骰子的掷法（1、2、3、4、5、6）。\n",
        "* C. 人们报告的温度（热、冷、暖、冻、凉）。\n",
        "* D. 制造产品的材料（塑料、金属、玻璃）。\n",
        "\n",
        "\n"
      ]
    },
    {
      "cell_type": "markdown",
      "metadata": {
        "id": "QUbu_n7fiITe"
      },
      "source": [
        "## 作业2：建立一个完整的分类模型，从定义目标、收集数据到训练模型和解释结果。"
      ]
    },
    {
      "cell_type": "code",
      "source": [
        "!nvidia-smi"
      ],
      "metadata": {
        "id": "G2tXp0vWxDD2",
        "outputId": "5114a39e-9193-48fe-93a0-319ac80ea1d1",
        "colab": {
          "base_uri": "https://localhost:8080/"
        }
      },
      "execution_count": null,
      "outputs": [
        {
          "output_type": "stream",
          "name": "stdout",
          "text": [
            "NVIDIA-SMI has failed because it couldn't communicate with the NVIDIA driver. Make sure that the latest NVIDIA driver is installed and running.\n",
            "\n"
          ]
        }
      ]
    },
    {
      "cell_type": "code",
      "execution_count": null,
      "metadata": {
        "colab": {
          "base_uri": "https://localhost:8080/"
        },
        "id": "dXn-UsEijVgI",
        "outputId": "3d908649-6bba-42d8-8fe2-f7fafa676ad1"
      },
      "outputs": [
        {
          "name": "stdout",
          "output_type": "stream",
          "text": [
            "\u001b[33mWARNING: pandas-profiling 1.4.1 does not provide the extra 'notebook'\u001b[0m\n",
            "\u001b[K     |████████████████████████████████| 288 kB 5.2 MB/s \n",
            "\u001b[K     |████████████████████████████████| 56 kB 5.0 MB/s \n",
            "\u001b[K     |████████████████████████████████| 113 kB 53.8 MB/s \n",
            "\u001b[K     |████████████████████████████████| 167 kB 48.6 MB/s \n",
            "\u001b[K     |████████████████████████████████| 1.7 MB 48.4 MB/s \n",
            "\u001b[?25h  Installing build dependencies ... \u001b[?25l\u001b[?25hdone\n",
            "  Getting requirements to build wheel ... \u001b[?25l\u001b[?25hdone\n",
            "  Installing backend dependencies ... \u001b[?25l\u001b[?25hdone\n",
            "    Preparing wheel metadata ... \u001b[?25l\u001b[?25hdone\n",
            "\u001b[K     |████████████████████████████████| 1.3 MB 45.2 MB/s \n",
            "\u001b[K     |████████████████████████████████| 261 kB 53.4 MB/s \n",
            "\u001b[K     |████████████████████████████████| 6.8 MB 25.6 MB/s \n",
            "\u001b[K     |████████████████████████████████| 15.5 MB 59.7 MB/s \n",
            "\u001b[K     |████████████████████████████████| 2.0 MB 34.5 MB/s \n",
            "\u001b[K     |████████████████████████████████| 86 kB 5.6 MB/s \n",
            "\u001b[K     |████████████████████████████████| 62 kB 884 kB/s \n",
            "\u001b[K     |████████████████████████████████| 596 kB 45.0 MB/s \n",
            "\u001b[K     |████████████████████████████████| 675 kB 61.0 MB/s \n",
            "\u001b[K     |████████████████████████████████| 102 kB 11.7 MB/s \n",
            "\u001b[K     |████████████████████████████████| 3.1 MB 30.9 MB/s \n",
            "\u001b[K     |████████████████████████████████| 10.1 MB 39.0 MB/s \n",
            "\u001b[K     |████████████████████████████████| 303 kB 59.3 MB/s \n",
            "\u001b[K     |████████████████████████████████| 812 kB 57.4 MB/s \n",
            "\u001b[K     |████████████████████████████████| 25.9 MB 1.3 MB/s \n",
            "\u001b[K     |████████████████████████████████| 180 kB 40.7 MB/s \n",
            "\u001b[K     |████████████████████████████████| 79 kB 8.5 MB/s \n",
            "\u001b[K     |████████████████████████████████| 1.1 MB 64.4 MB/s \n",
            "\u001b[K     |████████████████████████████████| 58 kB 6.1 MB/s \n",
            "\u001b[K     |████████████████████████████████| 146 kB 43.3 MB/s \n",
            "\u001b[K     |████████████████████████████████| 75 kB 4.6 MB/s \n",
            "\u001b[K     |████████████████████████████████| 52 kB 1.6 MB/s \n",
            "\u001b[K     |████████████████████████████████| 63 kB 1.9 MB/s \n",
            "\u001b[K     |████████████████████████████████| 1.7 MB 36.1 MB/s \n",
            "\u001b[?25h  Installing build dependencies ... \u001b[?25l\u001b[?25hdone\n",
            "  Getting requirements to build wheel ... \u001b[?25l\u001b[?25hdone\n",
            "  Installing backend dependencies ... \u001b[?25l\u001b[?25hdone\n",
            "    Preparing wheel metadata ... \u001b[?25l\u001b[?25hdone\n",
            "\u001b[K     |████████████████████████████████| 1.7 MB 56.5 MB/s \n",
            "\u001b[K     |████████████████████████████████| 1.1 MB 57.6 MB/s \n",
            "\u001b[?25h  Building wheel for htmlmin (setup.py) ... \u001b[?25l\u001b[?25hdone\n",
            "  Building wheel for imagehash (setup.py) ... \u001b[?25l\u001b[?25hdone\n",
            "  Building wheel for alembic (setup.py) ... \u001b[?25l\u001b[?25hdone\n",
            "  Building wheel for databricks-cli (setup.py) ... \u001b[?25l\u001b[?25hdone\n",
            "  Building wheel for pyLDAvis (setup.py) ... \u001b[?25l\u001b[?25hdone\n",
            "  Building wheel for pyod (setup.py) ... \u001b[?25l\u001b[?25hdone\n",
            "  Building wheel for umap-learn (setup.py) ... \u001b[?25l\u001b[?25hdone\n",
            "  Building wheel for pynndescent (setup.py) ... \u001b[?25l\u001b[?25hdone\n",
            "\u001b[31mERROR: pip's dependency resolver does not currently take into account all the packages that are installed. This behaviour is the source of the following dependency conflicts.\n",
            "google-colab 1.0.0 requires requests~=2.23.0, but you have requests 2.26.0 which is incompatible.\n",
            "datascience 0.10.6 requires folium==0.2.1, but you have folium 0.8.3 which is incompatible.\n",
            "albumentations 0.1.12 requires imgaug<0.2.7,>=0.2.5, but you have imgaug 0.2.9 which is incompatible.\u001b[0m\n",
            "Enabling notebook extension jupyter-js-widgets/extension...\n",
            "      - Validating: \u001b[32mOK\u001b[0m\n"
          ]
        }
      ],
      "source": [
        "import sys\n",
        "!pip install -Uqq pandas-profiling[notebook]\n",
        "!pip install -Uqq pycaret\n",
        "!jupyter nbextension enable --py widgetsnbextension"
      ]
    },
    {
      "cell_type": "code",
      "execution_count": null,
      "metadata": {
        "colab": {
          "base_uri": "https://localhost:8080/"
        },
        "id": "_dSDbNqWzpjg",
        "outputId": "44f3eeb9-8ec7-4fae-d8c4-6245e03238ad"
      },
      "outputs": [
        {
          "name": "stdout",
          "output_type": "stream",
          "text": [
            "Colab mode enabled.\n"
          ]
        }
      ],
      "source": [
        "# Standard Library Imports\n",
        "from pathlib import Path\n",
        "\n",
        "# Installed packages\n",
        "import pandas as pd\n",
        "from ipywidgets import widgets\n",
        "\n",
        "# Our package\n",
        "from pandas_profiling import ProfileReport\n",
        "from pandas_profiling.utils.cache import cache_file\n",
        "\n",
        "#Enable pycaret on Colab\n",
        "from pycaret.utils import enable_colab\n",
        "enable_colab()\n",
        "%matplotlib inline"
      ]
    },
    {
      "cell_type": "markdown",
      "metadata": {
        "id": "nMjo3Bh63l-a"
      },
      "source": [
        "#### 0. 定义一个机器学习任务\n",
        "\n",
        "试着先看看教材中的例子，以便阐明你的机器学习任务，观察到什么，你希望模型能预测什么答案。\n",
        "\n",
        "**机器学习任务**。\n",
        "\n",
        "**目标**: \n",
        "\n",
        "**样本**: .\n",
        "\n",
        "**特征**: \n",
        "\n",
        "#### 1. 选择你的数据集\n",
        "\n",
        "我们强烈建议你搜索自己的表格数据集。为此，你可以很容易地在[Kaggle]（https://www.kaggle.com/）上搜索你自己的表格分类数据集。\n",
        "\n",
        "例如，可以是 \n",
        "\n",
        "1. [网上购物者购买意向：](https://archive.ics.uci.edu/ml/datasets/Online+Shoppers+Purchasing+Intention+Dataset)  购物者是否会购买或不购买产品？\n",
        "1. [蘑菇分类](https://www.kaggle.com/uciml/mushroom-classification): 可食用还是有毒的蘑菇？\n",
        "1. [其他...](https://www.kaggle.com/datasets?search=classification&datasetsOnly=true)\n",
        "\n",
        "为了利用这个数据集，你必须下载它，并使用左边的文件功能将其上传到Colab笔记本中。请看下面的图片，了解一步步的过程。\n",
        "\n",
        "<img src=\"https://www.dropbox.com/s/rmo90567wwjohxp/Upload.png?dl=1\" width=\"900\"/>\n",
        "\n",
        "作为一个数据要求，请确保你正在处理一个表格数据分类任务。数据格式必须是`csv`。\n",
        "\n",
        "#### 2. 准备好数据集\n",
        "\n",
        "你可以通过阅读我们在任务描述中提供的下载链接中的csv文件直接建立DataFrame。\n",
        "\n",
        "提示：使用`pd.read_csv(\"你的路径在这里\")`。\n",
        "\n",
        "> 确保不要忘记\"\"里的文件路径。"
      ]
    },
    {
      "cell_type": "code",
      "execution_count": null,
      "metadata": {
        "id": "Ih8V-H1buLP0"
      },
      "outputs": [],
      "source": [
        ""
      ]
    },
    {
      "cell_type": "markdown",
      "metadata": {
        "id": "w5sG0hdDhYXH"
      },
      "source": [
        "#### 3. 使用Pandas Profiling探索你的数据集"
      ]
    },
    {
      "cell_type": "code",
      "execution_count": null,
      "metadata": {
        "id": "xEYwJ4XfBXC8"
      },
      "outputs": [],
      "source": [
        ""
      ]
    },
    {
      "cell_type": "markdown",
      "metadata": {
        "id": "2fgUqsZwkz-L"
      },
      "source": [
        "将数据集分成训练集和测试集"
      ]
    },
    {
      "cell_type": "code",
      "execution_count": null,
      "metadata": {
        "id": "1QpS48Jgk5DN"
      },
      "outputs": [],
      "source": [
        ""
      ]
    },
    {
      "cell_type": "markdown",
      "metadata": {
        "id": "H1-rEuOWr2QP"
      },
      "source": [
        "#### 4. 自动机器学习"
      ]
    },
    {
      "cell_type": "code",
      "execution_count": null,
      "metadata": {
        "id": "VoRU_z5qLcxL"
      },
      "outputs": [],
      "source": [
        ""
      ]
    }
  ],
  "metadata": {
    "colab": {
      "collapsed_sections": [],
      "name": "02_表格数据_Workbook.ipynb",
      "provenance": [],
      "include_colab_link": true
    },
    "jupytext": {
      "split_at_heading": true
    },
    "kernelspec": {
      "display_name": "Python 3 (ipykernel)",
      "language": "python",
      "name": "python3"
    },
    "language_info": {
      "codemirror_mode": {
        "name": "ipython",
        "version": 3
      },
      "file_extension": ".py",
      "mimetype": "text/x-python",
      "name": "python",
      "nbconvert_exporter": "python",
      "pygments_lexer": "ipython3",
      "version": "3.9.7"
    }
  },
  "nbformat": 4,
  "nbformat_minor": 0
}