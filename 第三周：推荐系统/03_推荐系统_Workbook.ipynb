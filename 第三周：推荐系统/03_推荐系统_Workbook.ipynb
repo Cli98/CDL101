{
  "cells": [
    {
      "cell_type": "markdown",
      "metadata": {
        "id": "view-in-github",
        "colab_type": "text"
      },
      "source": [
        "<a href=\"https://colab.research.google.com/github/unpackAI/CDL101/blob/main/%E7%AC%AC%E4%B8%89%E5%91%A8%EF%BC%9A%E6%8E%A8%E8%8D%90%E7%B3%BB%E7%BB%9F/03_%E6%8E%A8%E8%8D%90%E7%B3%BB%E7%BB%9F_Workbook.ipynb\" target=\"_parent\"><img src=\"https://colab.research.google.com/assets/colab-badge.svg\" alt=\"Open In Colab\"/></a>"
      ]
    },
    {
      "cell_type": "markdown",
      "metadata": {
        "id": "7j04QL-TPJy1"
      },
      "source": [
        "# 💻unpackAI \"DL101训练营 \"的第3周实践笔记本\n"
      ]
    },
    {
      "cell_type": "markdown",
      "metadata": {
        "id": "f0joGgV0POOt"
      },
      "source": [
        "## 📕 学习目标\n",
        "\n",
        "* 理解建立自己的协同过滤项目的基本过程。"
      ]
    },
    {
      "cell_type": "markdown",
      "metadata": {
        "id": "Jx21fMyjgV1v"
      },
      "source": [
        "##解包AI作业部分\n",
        "\n",
        " \n",
        "* **作业1**。浏览下面的多项选择题，并选择正确答案。在报告会上进行讨论。\n",
        "* **作业2**: 使用建议的数据集建立一个完整的模型。你需要了解数据，然后决定你要如何处理这个问题。然后测试你的模型，看看哪些项目是密切相关的。\n",
        "\n"
      ]
    },
    {
      "cell_type": "code",
      "execution_count": null,
      "metadata": {
        "colab": {
          "base_uri": "https://localhost:8080/"
        },
        "id": "tSH4055i6bJc",
        "outputId": "286d2581-3fda-41b3-d96d-93e525a60ff9"
      },
      "outputs": [
        {
          "name": "stdout",
          "output_type": "stream",
          "text": [
            "\u001b[K     |████████████████████████████████| 720 kB 11.9 MB/s \n",
            "\u001b[K     |████████████████████████████████| 1.2 MB 30.6 MB/s \n",
            "\u001b[K     |████████████████████████████████| 189 kB 35.7 MB/s \n",
            "\u001b[K     |████████████████████████████████| 46 kB 4.0 MB/s \n",
            "\u001b[K     |████████████████████████████████| 56 kB 4.5 MB/s \n",
            "\u001b[K     |████████████████████████████████| 51 kB 313 kB/s \n",
            "\u001b[K     |████████████████████████████████| 55 kB 3.1 MB/s \n",
            "\u001b[K     |████████████████████████████████| 89 kB 7.3 MB/s \n",
            "\u001b[?25h"
          ]
        }
      ],
      "source": [
        "!pip install -Uqq fastbook\n",
        "!pip install -Uqq unpackai"
      ]
    },
    {
      "cell_type": "code",
      "execution_count": null,
      "metadata": {
        "id": "OhDN6Qag6dTK"
      },
      "outputs": [],
      "source": [
        "from fastbook import *\n",
        "from fastai.collab import *\n",
        "from fastai.tabular.all import *"
      ]
    },
    {
      "cell_type": "markdown",
      "metadata": {
        "id": "W2frVl71OQJi"
      },
      "source": [
        "## 作业1：浏览以下问题，并指出你所选择的答案"
      ]
    },
    {
      "cell_type": "markdown",
      "metadata": {
        "id": "1O9n5eCpOQJj"
      },
      "source": [
        "### 问卷调查 \n",
        "\n",
        "请确保你能按问题的内容回答，以确保你对所学的工作有一个了解。"
      ]
    },
    {
      "cell_type": "markdown",
      "metadata": {
        "id": "J_0ecQs6hnQv"
      },
      "source": [
        "|#|问题|回答\n",
        "|:--|:---|:---\n",
        "|1.|说出三种类型的推荐系统|A：基于内容的、基于表格的、混合式的三种推荐系统。\n",
        "|||B: 协同过滤、混合式、基于内容 \n",
        "|||C: 表格式, CNN方法, 协同\n",
        "|2.|基于内容的过滤有哪些不同方法？|A: 以产品为中心的方法\n",
        "|||B: 用户信息协作\n",
        "|||C: 以项目为中心或以用户为中心的方法 \n",
        "|3.|请举例说明协同过滤的用例|A: Netflix根据你的评分来推荐电影 \n",
        "|||B: 亚马逊预测你的未来订单\n",
        "|||C: 预测下一个犯罪热点\n",
        "|4.|协同过滤解决的是什么问题？| A: 理解不同数据集的协作问题\n",
        "|||B: 拥有大量用户和产品的问题，如何根据用户之前的选择和评价向其推荐不同的商品。\n",
        "|||C Netflix遇到的问题是，如何根据用户看过的电影和他们的评价向用户推荐电影。\n",
        "|5.|NaN代表什么？|A: 现在和永不\n",
        "|||B: 数字和空\n",
        "|||C: 不是一个数字 \n",
        "|6.|协同过滤是如何解决产品和用户之间的关系问题的？|A：协同过滤使用潜在因素来确定项目之间的关系以及客户的偏好。\n",
        "|||B: 协同过滤使用你能提供给模型的所有数据，并得出可能的最佳解决方案，但我们不确定它是如何做到这一点的，因为潜在因素的含义是非常抽象的。\n",
        "|||C: 协同过滤使用一个大数据表格，这个表格太大、太复杂，一个人看不过来，它可以看到数据中的模式，让它推荐项目。\n",
        "|7.|什么会导致协同过滤推荐系统失败？|A：模型可能会失败，因为没有足够的数据能够让潜在的因素变得有意义。\n",
        "|||B：如果太多的人没有给出一个诚实的答案，而是给出了不准确的评价，那么该模型可能会失败。结果是基于你对电影评分的准确程度。\n",
        "|||C: 如果模型过度拟合数据，可能会失败。\n",
        "\n"
      ]
    },
    {
      "cell_type": "markdown",
      "metadata": {
        "id": "bU_H-ol_gihc"
      },
      "source": [
        "## 任务2"
      ]
    },
    {
      "cell_type": "markdown",
      "metadata": {
        "id": "QUbu_n7fiITe"
      },
      "source": [
        "##作业2：建立一个完整的协同过滤模型，从定义目标、构建数据集到训练模型和解释结果。"
      ]
    },
    {
      "cell_type": "markdown",
      "metadata": {
        "id": "bJwCOygMFLe9"
      },
      "source": [
        "### 任务描述"
      ]
    },
    {
      "cell_type": "markdown",
      "metadata": {
        "id": "KTH32hp9A6dJ"
      },
      "source": [
        "我们已经确定了一些数据集，你可以用来建立你自己的协作式过滤项目。选择你想做的数据集，通过重构你在教材中学到的代码，训练你自己的协同过滤模型，看看你能得到什么结果。 \n",
        "\n",
        "下面是对数据集的简要描述，你可以选择将数据集下载到你的本地电脑上，并在Excel中打开，或者你可以使用Python并查看数据，这样你就可以在做出最终选择并开始编码之前明确定义你的项目。\n",
        "\n",
        "\n",
        "1. **动漫推荐数据库**\n",
        "\n",
        "这个数据集包含了来自73,516个用户对12,294部动漫的用户偏好数据信息。每个用户都可以将动漫添加到他们完成的列表中，并给它一个评级，这个数据集是这些评级的汇编。你可以建立只基于用户观看历史的动漫推荐系统。\n",
        "\n",
        "*在这里下载数据集：*。\n",
        "https://www.dropbox.com/s/5hf29yrvwxejg6i/anime_recommendations.zip?dl=1\n",
        "\n",
        "找到数据集[这里](https://www.kaggle.com/CooperUnion/anime-recommendations-database)\n",
        "\n",
        "\n",
        "2. **杰斯特协作过滤数据集**。\n",
        "\n",
        "笑话的有趣程度是非常主观的。有超过70,000个用户对笑话进行评价，是否可以编写一个算法来识别普遍的有趣的笑话？\n",
        "由于有趣是一个非常主观的问题，看看潜在的因素是否能带出使事情变得有趣的细节，将是非常有趣的。\n",
        "\n",
        "*在此下载数据集：*。\n",
        "https://www.dropbox.com/s/ef1mytjms1indlf/jester_collaborative_filtering.zip?dl=1\n",
        "\n",
        "找到数据集[这里](https://www.kaggle.com/aakaashjois/jester-collaborative-filtering-dataset)\n",
        "\n",
        "\n",
        "\n",
        "3. **图书推荐数据集**\n",
        "\n",
        "包含图书评级信息。评分（Book-Rating）是显性的，用1-10分表示（数值越高表示欣赏程度越高），或者是隐性的，用0表示。\n",
        "\n",
        "*在此下载该数据集：*。\n",
        "https://www.dropbox.com/s/358awacarwmeumv/book_recommendation.zip?dl=1\n",
        "\n",
        "查找数据集[这里](https://www.kaggle.com/arashnic/book-recommendation-dataset)"
      ]
    },
    {
      "cell_type": "markdown",
      "metadata": {
        "id": "1MI2Pe3lFSqk"
      },
      "source": [
        "### 作业2的执行\n",
        "\n",
        "一旦你选择了你要处理的数据集，并且定义了你的项目，你就可以开始写代码了。"
      ]
    },
    {
      "cell_type": "markdown",
      "metadata": {
        "id": "MBEGzn64EChZ"
      },
      "source": [
        "### **动漫推荐数据库** "
      ]
    },
    {
      "cell_type": "markdown",
      "metadata": {
        "id": "uZbAFF0TECh1"
      },
      "source": [
        "#### 1. 定义一个推荐系统问题并提出解决方案。\n",
        "\n",
        "***描述你的项目：*** \n",
        "\n",
        "***描述你的用户：***\n",
        "\n",
        "***评分范围是多少？:***\n"
      ]
    },
    {
      "cell_type": "markdown",
      "metadata": {
        "id": "u3WsR5dXECh1"
      },
      "source": [
        "#### 2. 收集和构建你的数据集。"
      ]
    },
    {
      "cell_type": "code",
      "execution_count": null,
      "metadata": {
        "colab": {
          "base_uri": "https://localhost:8080/",
          "height": 37
        },
        "id": "bIm1jZGAECh2",
        "outputId": "52ceb28b-ef71-4c04-fa36-22357d975245"
      },
      "outputs": [
        {
          "data": {
            "text/html": [
              "\n",
              "    <div>\n",
              "        <style>\n",
              "            /* Turns off some styling */\n",
              "            progress {\n",
              "                /* gets rid of default border in Firefox and Opera. */\n",
              "                border: none;\n",
              "                /* Needs to be in here for Safari polyfill so background images work as expected. */\n",
              "                background-size: auto;\n",
              "            }\n",
              "            .progress-bar-interrupted, .progress-bar-interrupted::-webkit-progress-bar {\n",
              "                background: #F44336;\n",
              "            }\n",
              "        </style>\n",
              "      <progress value='7774208' class='' max='7770191' style='width:300px; height:20px; vertical-align: middle;'></progress>\n",
              "      100.05% [7774208/7770191 00:00<00:00]\n",
              "    </div>\n",
              "    "
            ],
            "text/plain": [
              "<IPython.core.display.HTML object>"
            ]
          },
          "metadata": {},
          "output_type": "display_data"
        }
      ],
      "source": [
        "path = untar_data('https://www.dropbox.com/s/5hf29yrvwxejg6i/anime_recommendations.zip?dl=1')\n",
        "Path.BASE_PATH = path"
      ]
    },
    {
      "cell_type": "code",
      "execution_count": null,
      "metadata": {
        "id": "P4rOCXZHBeUL"
      },
      "outputs": [],
      "source": [
        "path.ls()"
      ]
    },
    {
      "cell_type": "code",
      "execution_count": null,
      "metadata": {
        "colab": {
          "background_save": true
        },
        "id": "CjXf4gqdGkI1"
      },
      "outputs": [],
      "source": [
        "ratings = pd.read_csv(path/'rating.csv')\n",
        "ratings"
      ]
    },
    {
      "cell_type": "code",
      "execution_count": null,
      "metadata": {
        "id": "3leoI6ZzGmEf"
      },
      "outputs": [],
      "source": [
        "animes = pd.read_csv(path/'anime.csv')\n",
        "animes"
      ]
    },
    {
      "cell_type": "markdown",
      "metadata": {
        "id": "6-0ynSZNECh5"
      },
      "source": [
        "#### 3. 进行数据转换"
      ]
    },
    {
      "cell_type": "code",
      "execution_count": null,
      "metadata": {
        "id": "Rn_YzGNMGoKP"
      },
      "outputs": [],
      "source": [
        "ratings = ratings.merge(animes[[\"anime_id\", \"name\"]])\n",
        "ratings.head()"
      ]
    },
    {
      "cell_type": "markdown",
      "metadata": {
        "id": "AqAxhWi7ECh5"
      },
      "source": [
        "#### 4. 模型训练"
      ]
    },
    {
      "cell_type": "markdown",
      "metadata": {
        "id": "Vl25ygDvECh5"
      },
      "source": [
        "#### 5. 解释模型并作出预测"
      ]
    },
    {
      "cell_type": "markdown",
      "metadata": {
        "id": "6OFx2kTakt2E"
      },
      "source": [
        "### **Jester协作过滤数据集** "
      ]
    },
    {
      "cell_type": "markdown",
      "metadata": {
        "id": "nMjo3Bh63l-a"
      },
      "source": [
        "#### 1. 定义一个推荐系统问题并提出解决方案。\n",
        "\n",
        "***描述你的项目：*** \n",
        "\n",
        "***描述你的用户：***\n",
        "\n",
        "***评分范围是多少？:***\n"
      ]
    },
    {
      "cell_type": "markdown",
      "metadata": {
        "id": "PkUg9HF3B-Vi"
      },
      "source": [
        "#### 2. 收集和构建你的数据集。"
      ]
    },
    {
      "cell_type": "markdown",
      "metadata": {
        "id": "PxdhVpxhgsrQ"
      },
      "source": [
        "为了访问这些文件，我们需要下载并解压它们，可以通过使用`untar_data`来完成。用户评分被分割在两个电子表格中，这对于训练模型并不方便，因为它需要整个数据集来给出更好的预测。我们将不得不首先为每个文件（`UserRatings1`和`UserRatings2`）创建一个DataFrame，然后在进入第三步之前将它们连接起来。\n",
        "\n",
        "我们为这个数据集提供了一些帮助，因为数据的设置方式。"
      ]
    },
    {
      "cell_type": "code",
      "execution_count": null,
      "metadata": {
        "id": "49xcOcZMuJWB"
      },
      "outputs": [],
      "source": [
        "path = untar_data('https://www.dropbox.com/s/ef1mytjms1indlf/jester_collaborative_filtering.zip?dl=1')\n",
        "Path.BASE_PATH = path"
      ]
    },
    {
      "cell_type": "code",
      "execution_count": null,
      "metadata": {
        "id": "776JPd-KGbAf"
      },
      "outputs": [],
      "source": [
        "path.ls()"
      ]
    },
    {
      "cell_type": "code",
      "execution_count": null,
      "metadata": {
        "id": "QCG32wrwJaia"
      },
      "outputs": [],
      "source": [
        "UserRatings1 = pd.read_csv(path/'UserRatings1.csv')\n",
        "UserRatings1.head()"
      ]
    },
    {
      "cell_type": "code",
      "execution_count": null,
      "metadata": {
        "id": "qzh_bvnmJfSn"
      },
      "outputs": [],
      "source": [
        "UserRatings2 = pd.read_csv(path/'UserRatings2.csv')\n",
        "UserRatings2.head()"
      ]
    },
    {
      "cell_type": "code",
      "execution_count": null,
      "metadata": {
        "id": "dXPGXxiaJihO"
      },
      "outputs": [],
      "source": [
        "joke_text = pd.read_csv(path/'JokeText.csv')\n",
        "joke_text.head()"
      ]
    },
    {
      "cell_type": "code",
      "execution_count": null,
      "metadata": {
        "id": "xMfBKl1mJkpO"
      },
      "outputs": [],
      "source": [
        "UserRatings2 = UserRatings2.drop('JokeId', axis=1)\n",
        "UserRatings = pd.concat([UserRatings1, UserRatings2], axis=1)\n",
        "UserRatings.iloc[:,36709:36720] "
      ]
    },
    {
      "cell_type": "markdown",
      "metadata": {
        "id": "oEbVmw2iGcqs"
      },
      "source": [
        "#### 3. 进行数据转换"
      ]
    },
    {
      "cell_type": "code",
      "execution_count": null,
      "metadata": {
        "id": "C-Yr7t74Jmiv"
      },
      "outputs": [],
      "source": [
        "ratings = UserRatings.melt(id_vars=\"JokeId\",var_name='users', value_name=\"rating\")"
      ]
    },
    {
      "cell_type": "code",
      "execution_count": null,
      "metadata": {
        "id": "-75jBeYcJoRT"
      },
      "outputs": [],
      "source": [
        "ratings.users = ratings.users.str.replace(\"User\",\"\")"
      ]
    },
    {
      "cell_type": "code",
      "execution_count": null,
      "metadata": {
        "id": "iWMt4DUgJqUP"
      },
      "outputs": [],
      "source": [
        "ratings.dropna(inplace=True)"
      ]
    },
    {
      "cell_type": "code",
      "execution_count": null,
      "metadata": {
        "id": "9BIG5eiuJsGs"
      },
      "outputs": [],
      "source": [
        "ratings = ratings.merge(joke_text, on=\"JokeId\")\n",
        "ratings.head()"
      ]
    },
    {
      "cell_type": "markdown",
      "metadata": {
        "id": "H1-rEuOWr2QP"
      },
      "source": [
        "#### 4. 模型训练"
      ]
    },
    {
      "cell_type": "markdown",
      "metadata": {
        "id": "6UEL3siOsV2i"
      },
      "source": [
        "#### 5. 解释模型并作出预测"
      ]
    },
    {
      "cell_type": "markdown",
      "metadata": {
        "id": "uuj89rwtFI4g"
      },
      "source": [
        "### **Book Recommendation Dataset** "
      ]
    },
    {
      "cell_type": "markdown",
      "metadata": {
        "id": "doMekgtmFI44"
      },
      "source": [
        "#### 1. 定义一个推荐系统问题并提出解决方案。\n",
        "\n",
        "***描述你的项目：*** \n",
        "\n",
        "***描述你的用户：***\n",
        "\n",
        "***评分范围是多少？：***\n",
        "\n",
        "提示：这是一个庞大的数据集。使用GPU来训练。\n"
      ]
    },
    {
      "cell_type": "markdown",
      "metadata": {
        "id": "xkPdF5qEFI44"
      },
      "source": [
        "#### 2. 收集和构建你的数据集。"
      ]
    },
    {
      "cell_type": "code",
      "execution_count": null,
      "metadata": {
        "id": "FB_lGDLnFI44"
      },
      "outputs": [],
      "source": [
        "path = untar_data('https://www.dropbox.com/s/358awacarwmeumv/book_recommendation.zip?dl=1')\n",
        "Path.BASE_PATH = path"
      ]
    },
    {
      "cell_type": "code",
      "execution_count": null,
      "metadata": {
        "id": "wgOhjLDlBkxK"
      },
      "outputs": [],
      "source": [
        "path.ls()"
      ]
    },
    {
      "cell_type": "code",
      "execution_count": null,
      "metadata": {
        "id": "U9XoqELWMAwQ"
      },
      "outputs": [],
      "source": [
        "books = pd.read_csv(path/'Books.csv')\n",
        "books.head()"
      ]
    },
    {
      "cell_type": "code",
      "execution_count": null,
      "metadata": {
        "id": "KdnKqKqFMDKN"
      },
      "outputs": [],
      "source": [
        "users = pd.read_csv(path/'Users.csv')\n",
        "users.head()"
      ]
    },
    {
      "cell_type": "code",
      "execution_count": null,
      "metadata": {
        "id": "iRt9kpIgME8N"
      },
      "outputs": [],
      "source": [
        "ratings = pd.read_csv(path/'Ratings.csv')\n",
        "ratings.head()"
      ]
    },
    {
      "cell_type": "markdown",
      "metadata": {
        "id": "eygM3YzRFI45"
      },
      "source": [
        "#### 3. 进行数据转换"
      ]
    },
    {
      "cell_type": "code",
      "execution_count": null,
      "metadata": {
        "id": "AwO1vsmMMG8S"
      },
      "outputs": [],
      "source": [
        "ratings = ratings.merge(books[[\"ISBN\", \"Book-Title\"]])\n",
        "ratings.head()"
      ]
    },
    {
      "cell_type": "markdown",
      "metadata": {
        "id": "S4MQzqx7FI46"
      },
      "source": [
        "#### 4. 模型训练"
      ]
    },
    {
      "cell_type": "markdown",
      "metadata": {
        "id": "pdw9PQP5FI46"
      },
      "source": [
        "#### 5. 解释模型并作出预测"
      ]
    },
    {
      "cell_type": "code",
      "execution_count": null,
      "metadata": {
        "id": "TRVoMNYFTDDw"
      },
      "outputs": [],
      "source": [
        ""
      ]
    }
  ],
  "metadata": {
    "accelerator": "GPU",
    "colab": {
      "collapsed_sections": [],
      "name": "03_推荐系统_Workbook.ipynb",
      "provenance": [],
      "include_colab_link": true
    },
    "kernelspec": {
      "display_name": "Python 3",
      "language": "python",
      "name": "python3"
    },
    "language_info": {
      "codemirror_mode": {
        "name": "ipython",
        "version": 3
      },
      "file_extension": ".py",
      "mimetype": "text/x-python",
      "name": "python",
      "nbconvert_exporter": "python",
      "pygments_lexer": "ipython3",
      "version": "3.8.8"
    }
  },
  "nbformat": 4,
  "nbformat_minor": 0
}